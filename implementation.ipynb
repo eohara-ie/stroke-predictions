{
 "cells": [
  {
   "cell_type": "markdown",
   "source": [
    "# Stroke Data Implementation 1"
   ],
   "metadata": {}
  },
  {
   "cell_type": "code",
   "execution_count": 91,
   "source": [
    "# Import libraries\r\n",
    "import pandas as pd\r\n",
    "import numpy as np\r\n",
    "from sklearn.linear_model import LogisticRegression\r\n",
    "from sklearn.metrics import classification_report, confusion_matrix\r\n",
    "from sklearn.model_selection import GridSearchCV"
   ],
   "outputs": [],
   "metadata": {}
  },
  {
   "cell_type": "code",
   "execution_count": 92,
   "source": [
    "# Read in preprocessed data\r\n",
    "x_train = pd.read_csv('data/x_train.csv')\r\n",
    "x_test = pd.read_csv('data/x_test.csv')\r\n",
    "y_train = pd.read_csv('data/y_train.csv')\r\n",
    "y_test = pd.read_csv('data/y_test.csv')"
   ],
   "outputs": [],
   "metadata": {}
  },
  {
   "cell_type": "markdown",
   "source": [
    "## LightGBM Model\r\n",
    "\r\n"
   ],
   "metadata": {}
  },
  {
   "cell_type": "code",
   "execution_count": null,
   "source": [
    "# Instantiate model\r\n"
   ],
   "outputs": [],
   "metadata": {}
  }
 ],
 "metadata": {
  "kernelspec": {
   "name": "python3",
   "display_name": "Python 3.8.3 64-bit (conda)"
  },
  "language_info": {
   "codemirror_mode": {
    "name": "ipython",
    "version": 3
   },
   "file_extension": ".py",
   "mimetype": "text/x-python",
   "name": "python",
   "nbconvert_exporter": "python",
   "pygments_lexer": "ipython3",
   "version": "3.8.3"
  },
  "interpreter": {
   "hash": "cca44c72e414c7edb2edef12af158507306d57e12b969a1537c890d6c87eff99"
  }
 },
 "nbformat": 4,
 "nbformat_minor": 4
}