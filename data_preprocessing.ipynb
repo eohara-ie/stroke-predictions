{
 "cells": [
  {
   "cell_type": "markdown",
   "source": [
    "# Stroke Data Preprocessing"
   ],
   "metadata": {}
  },
  {
   "cell_type": "code",
   "execution_count": 1,
   "source": [
    "# Import libraries\r\n",
    "import pandas as pd\r\n",
    "import numpy as np\r\n",
    "from sklearn.model_selection import train_test_split"
   ],
   "outputs": [],
   "metadata": {}
  },
  {
   "cell_type": "code",
   "execution_count": 2,
   "source": [
    "# Read in dataset csv\r\n",
    "stroke_df = pd.read_csv('data/healthcare-dataset-stroke-data.csv')"
   ],
   "outputs": [],
   "metadata": {}
  },
  {
   "cell_type": "markdown",
   "source": [
    "## Data Preprocessing\n",
    "\n",
    "### Deal with nulls\n",
    "\n",
    "In the output of the previous cell, we see that all features except `bmi` are free of nulls.\n",
    "\n",
    "We're going to relace these values with the median value for `bmi`."
   ],
   "metadata": {}
  },
  {
   "cell_type": "code",
   "execution_count": 3,
   "source": [
    "print(stroke_df.isnull().sum())\r\n",
    "print(stroke_df.shape)\r\n",
    "print('Maximum percentage of rows with null values in dataset: ' + str(round(100 * stroke_df.isnull().sum().sum() / len(stroke_df), 3)) + '%')"
   ],
   "outputs": [
    {
     "output_type": "stream",
     "name": "stdout",
     "text": [
      "id                     0\n",
      "gender                 0\n",
      "age                    0\n",
      "hypertension           0\n",
      "heart_disease          0\n",
      "ever_married           0\n",
      "work_type              0\n",
      "Residence_type         0\n",
      "avg_glucose_level      0\n",
      "bmi                  201\n",
      "smoking_status         0\n",
      "stroke                 0\n",
      "dtype: int64\n",
      "(5110, 12)\n",
      "Maximum percentage of rows with null values in dataset: 3.933%\n"
     ]
    }
   ],
   "metadata": {}
  },
  {
   "cell_type": "code",
   "execution_count": 4,
   "source": [
    "# Replace null values with the median for the `bmi` feature\r\n",
    "stroke_df['bmi'] = stroke_df['bmi'].replace(np.NaN, stroke_df['bmi'].median())\r\n",
    "print(stroke_df.isnull().sum())\r\n",
    "print(stroke_df.shape)"
   ],
   "outputs": [
    {
     "output_type": "stream",
     "name": "stdout",
     "text": [
      "id                   0\n",
      "gender               0\n",
      "age                  0\n",
      "hypertension         0\n",
      "heart_disease        0\n",
      "ever_married         0\n",
      "work_type            0\n",
      "Residence_type       0\n",
      "avg_glucose_level    0\n",
      "bmi                  0\n",
      "smoking_status       0\n",
      "stroke               0\n",
      "dtype: int64\n",
      "(5110, 12)\n"
     ]
    }
   ],
   "metadata": {}
  },
  {
   "cell_type": "markdown",
   "source": [
    "### One hot encoding\r\n",
    "\r\n",
    "Splits categorical features out into their continuous equivalent."
   ],
   "metadata": {}
  },
  {
   "cell_type": "code",
   "execution_count": 5,
   "source": [
    "str_cols = list(stroke_df.dtypes[stroke_df.dtypes == 'object'].index)\r\n",
    "\r\n",
    "stroke_df = pd.get_dummies(stroke_df, columns=str_cols)"
   ],
   "outputs": [],
   "metadata": {}
  },
  {
   "cell_type": "markdown",
   "source": [
    "### Split data\r\n",
    "\r\n",
    "Data split into training and testing sets, with a ratio of 2/3 to 1/3 respectively."
   ],
   "metadata": {}
  },
  {
   "cell_type": "code",
   "execution_count": 6,
   "source": [
    "x = stroke_df.drop(columns=['stroke'],axis=1, inplace=False)\r\n",
    "y = stroke_df['stroke']\r\n",
    "\r\n",
    "x_train, x_test, y_train, y_test = train_test_split(x, y, test_size=0.33, random_state=42)"
   ],
   "outputs": [],
   "metadata": {}
  },
  {
   "cell_type": "code",
   "execution_count": 8,
   "source": [
    "# Write preprocessed data to CSV\r\n",
    "x_train.to_csv('data/x_train.csv', index=False)\r\n",
    "x_test.to_csv('data/x_test.csv', index=False)\r\n",
    "y_train.to_csv('data/y_train.csv', index=False)\r\n",
    "y_test.to_csv('data/y_test.csv', index=False)"
   ],
   "outputs": [],
   "metadata": {}
  }
 ],
 "metadata": {
  "kernelspec": {
   "name": "python3",
   "display_name": "Python 3.8.3 64-bit (conda)"
  },
  "language_info": {
   "codemirror_mode": {
    "name": "ipython",
    "version": 3
   },
   "file_extension": ".py",
   "mimetype": "text/x-python",
   "name": "python",
   "nbconvert_exporter": "python",
   "pygments_lexer": "ipython3",
   "version": "3.8.3"
  },
  "interpreter": {
   "hash": "cca44c72e414c7edb2edef12af158507306d57e12b969a1537c890d6c87eff99"
  }
 },
 "nbformat": 4,
 "nbformat_minor": 4
}