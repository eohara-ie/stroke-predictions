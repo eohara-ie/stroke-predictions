{
 "cells": [
  {
   "cell_type": "markdown",
   "metadata": {},
   "source": [
    "# Stroke Data Preprocessing"
   ]
  },
  {
   "cell_type": "code",
   "execution_count": 15,
   "metadata": {},
   "outputs": [],
   "source": [
    "# Import libraries\n",
    "import pandas as pd\n",
    "import numpy as np\n",
    "from sklearn.model_selection import train_test_split"
   ]
  },
  {
   "cell_type": "code",
   "execution_count": 16,
   "metadata": {},
   "outputs": [],
   "source": [
    "# Read in dataset csv\n",
    "stroke_df = pd.read_csv('data/healthcare-dataset-stroke-data.csv')"
   ]
  },
  {
   "source": [
    "## Data Preprocessing\n",
    "\n",
    "### Deal with nulls\n",
    "\n",
    "In the output of the previous cell, we see that all features except `bmi` are free of nulls.\n",
    "\n",
    "We're going to relace these values with the median value for `bmi`."
   ],
   "cell_type": "markdown",
   "metadata": {}
  },
  {
   "cell_type": "code",
   "execution_count": 17,
   "metadata": {},
   "outputs": [
    {
     "output_type": "stream",
     "name": "stdout",
     "text": [
      "id                     0\ngender                 0\nage                    0\nhypertension           0\nheart_disease          0\never_married           0\nwork_type              0\nResidence_type         0\navg_glucose_level      0\nbmi                  201\nsmoking_status         0\nstroke                 0\ndtype: int64\n(5110, 12)\nMaximum percentage of rows with null values in dataset: 3.933%\n"
     ]
    }
   ],
   "source": [
    "print(stroke_df.isnull().sum())\n",
    "print(stroke_df.shape)\n",
    "print('Maximum percentage of rows with null values in dataset: ' + str(round(100 * stroke_df.isnull().sum().sum() / len(stroke_df), 3)) + '%')"
   ]
  },
  {
   "cell_type": "code",
   "execution_count": 18,
   "metadata": {},
   "outputs": [
    {
     "output_type": "stream",
     "name": "stdout",
     "text": [
      "id                   0\ngender               0\nage                  0\nhypertension         0\nheart_disease        0\never_married         0\nwork_type            0\nResidence_type       0\navg_glucose_level    0\nbmi                  0\nsmoking_status       0\nstroke               0\ndtype: int64\n(5110, 12)\n"
     ]
    }
   ],
   "source": [
    "stroke_df['bmi'] = stroke_df['bmi'].replace(np.NaN, stroke_df['bmi'].median())\n",
    "print(stroke_df.isnull().sum())\n",
    "print(stroke_df.shape)"
   ]
  },
  {
   "source": [
    "### One hot encoding"
   ],
   "cell_type": "markdown",
   "metadata": {}
  },
  {
   "cell_type": "code",
   "execution_count": 19,
   "metadata": {},
   "outputs": [],
   "source": [
    "str_cols = list(stroke_df.dtypes[stroke_df.dtypes == 'object'].index)\n",
    "\n",
    "stroke_df = pd.get_dummies(stroke_df, columns=str_cols)"
   ]
  },
  {
   "source": [
    "### Split data"
   ],
   "cell_type": "markdown",
   "metadata": {}
  },
  {
   "cell_type": "code",
   "execution_count": 20,
   "metadata": {},
   "outputs": [],
   "source": [
    "x = stroke_df.drop(columns=['stroke'],axis=1, inplace=False)\n",
    "y = stroke_df['stroke']\n",
    "\n",
    "x_train, x_test, y_train, y_test = train_test_split(x, y, test_size=0.33, random_state=42)"
   ]
  },
  {
   "cell_type": "code",
   "execution_count": 21,
   "metadata": {},
   "outputs": [
    {
     "output_type": "execute_result",
     "data": {
      "text/plain": [
       "3378    0\n",
       "479     0\n",
       "3683    0\n",
       "2997    0\n",
       "286     0\n",
       "       ..\n",
       "4426    0\n",
       "466     0\n",
       "3092    0\n",
       "3772    0\n",
       "860     0\n",
       "Name: stroke, Length: 3423, dtype: int64"
      ]
     },
     "metadata": {},
     "execution_count": 21
    }
   ],
   "source": [
    "y_train"
   ]
  },
  {
   "cell_type": "code",
   "execution_count": 22,
   "metadata": {},
   "outputs": [],
   "source": [
    "# Write preprocessed data to CSV\n",
    "x_train.to_csv('data/x_train.csv', index=False)\n",
    "x_test.to_csv('data/x_test.csv', index=False)\n",
    "y_train.to_csv('data/y_train.csv', index=False)\n",
    "y_test.to_csv('data/y_test.csv', index=False)"
   ]
  }
 ],
 "metadata": {
  "kernelspec": {
   "name": "python3",
   "display_name": "Python 3.8.3 64-bit ('base': conda)"
  },
  "language_info": {
   "codemirror_mode": {
    "name": "ipython",
    "version": 3
   },
   "file_extension": ".py",
   "mimetype": "text/x-python",
   "name": "python",
   "nbconvert_exporter": "python",
   "pygments_lexer": "ipython3",
   "version": "3.8.3"
  },
  "interpreter": {
   "hash": "e98eca607736d8890f0db0dec3b51f88089c673256096075672fc0c98a18bf73"
  }
 },
 "nbformat": 4,
 "nbformat_minor": 4
}