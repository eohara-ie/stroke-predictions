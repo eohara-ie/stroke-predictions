{
 "cells": [
  {
   "cell_type": "markdown",
   "metadata": {},
   "source": [
    "# Stroke Data Exploration"
   ]
  },
  {
   "cell_type": "markdown",
   "metadata": {},
   "source": [
    "Obtained from kaggle: https://www.kaggle.com/fedesoriano/stroke-prediction-dataset"
   ]
  },
  {
   "cell_type": "code",
   "execution_count": 180,
   "metadata": {},
   "outputs": [],
   "source": [
    "# Import libraries\n",
    "import pandas as pd\n",
    "import numpy as np\n",
    "import matplotlib.pyplot as plt\n",
    "from sklearn.linear_model import LogisticRegression\n",
    "from sklearn.metrics import classification_report, confusion_matrix\n",
    "from sklearn.model_selection import train_test_split, GridSearchCV"
   ]
  },
  {
   "source": [
    "## Read & Survey Data\n",
    "\n",
    "First, we will read in our dataset and gain some high-level information, such as number of features present, and percentage of positive labels.\n",
    "\n",
    "**NB** The following cells assume the dataset has been downloaded and extracted to `data/`."
   ],
   "cell_type": "markdown",
   "metadata": {}
  },
  {
   "cell_type": "code",
   "execution_count": 181,
   "metadata": {},
   "outputs": [],
   "source": [
    "# Read in dataset csv\n",
    "stroke_df = pd.read_csv('data/healthcare-dataset-stroke-data.csv')"
   ]
  },
  {
   "cell_type": "code",
   "execution_count": 182,
   "metadata": {},
   "outputs": [
    {
     "output_type": "execute_result",
     "data": {
      "text/plain": [
       "      id  gender   age  hypertension  heart_disease ever_married  \\\n",
       "0   9046    Male  67.0             0              1          Yes   \n",
       "1  51676  Female  61.0             0              0          Yes   \n",
       "2  31112    Male  80.0             0              1          Yes   \n",
       "3  60182  Female  49.0             0              0          Yes   \n",
       "4   1665  Female  79.0             1              0          Yes   \n",
       "\n",
       "       work_type Residence_type  avg_glucose_level   bmi   smoking_status  \\\n",
       "0        Private          Urban             228.69  36.6  formerly smoked   \n",
       "1  Self-employed          Rural             202.21   NaN     never smoked   \n",
       "2        Private          Rural             105.92  32.5     never smoked   \n",
       "3        Private          Urban             171.23  34.4           smokes   \n",
       "4  Self-employed          Rural             174.12  24.0     never smoked   \n",
       "\n",
       "   stroke  \n",
       "0       1  \n",
       "1       1  \n",
       "2       1  \n",
       "3       1  \n",
       "4       1  "
      ],
      "text/html": "<div>\n<style scoped>\n    .dataframe tbody tr th:only-of-type {\n        vertical-align: middle;\n    }\n\n    .dataframe tbody tr th {\n        vertical-align: top;\n    }\n\n    .dataframe thead th {\n        text-align: right;\n    }\n</style>\n<table border=\"1\" class=\"dataframe\">\n  <thead>\n    <tr style=\"text-align: right;\">\n      <th></th>\n      <th>id</th>\n      <th>gender</th>\n      <th>age</th>\n      <th>hypertension</th>\n      <th>heart_disease</th>\n      <th>ever_married</th>\n      <th>work_type</th>\n      <th>Residence_type</th>\n      <th>avg_glucose_level</th>\n      <th>bmi</th>\n      <th>smoking_status</th>\n      <th>stroke</th>\n    </tr>\n  </thead>\n  <tbody>\n    <tr>\n      <th>0</th>\n      <td>9046</td>\n      <td>Male</td>\n      <td>67.0</td>\n      <td>0</td>\n      <td>1</td>\n      <td>Yes</td>\n      <td>Private</td>\n      <td>Urban</td>\n      <td>228.69</td>\n      <td>36.6</td>\n      <td>formerly smoked</td>\n      <td>1</td>\n    </tr>\n    <tr>\n      <th>1</th>\n      <td>51676</td>\n      <td>Female</td>\n      <td>61.0</td>\n      <td>0</td>\n      <td>0</td>\n      <td>Yes</td>\n      <td>Self-employed</td>\n      <td>Rural</td>\n      <td>202.21</td>\n      <td>NaN</td>\n      <td>never smoked</td>\n      <td>1</td>\n    </tr>\n    <tr>\n      <th>2</th>\n      <td>31112</td>\n      <td>Male</td>\n      <td>80.0</td>\n      <td>0</td>\n      <td>1</td>\n      <td>Yes</td>\n      <td>Private</td>\n      <td>Rural</td>\n      <td>105.92</td>\n      <td>32.5</td>\n      <td>never smoked</td>\n      <td>1</td>\n    </tr>\n    <tr>\n      <th>3</th>\n      <td>60182</td>\n      <td>Female</td>\n      <td>49.0</td>\n      <td>0</td>\n      <td>0</td>\n      <td>Yes</td>\n      <td>Private</td>\n      <td>Urban</td>\n      <td>171.23</td>\n      <td>34.4</td>\n      <td>smokes</td>\n      <td>1</td>\n    </tr>\n    <tr>\n      <th>4</th>\n      <td>1665</td>\n      <td>Female</td>\n      <td>79.0</td>\n      <td>1</td>\n      <td>0</td>\n      <td>Yes</td>\n      <td>Self-employed</td>\n      <td>Rural</td>\n      <td>174.12</td>\n      <td>24.0</td>\n      <td>never smoked</td>\n      <td>1</td>\n    </tr>\n  </tbody>\n</table>\n</div>"
     },
     "metadata": {},
     "execution_count": 182
    }
   ],
   "source": [
    "stroke_df.head()"
   ]
  },
  {
   "cell_type": "code",
   "execution_count": 183,
   "metadata": {},
   "outputs": [
    {
     "output_type": "stream",
     "name": "stdout",
     "text": [
      "Number of rows in dataset: 5110\nPercentage of strokes in dataset: 0.049%\n"
     ]
    }
   ],
   "source": [
    "num_strokes = len(stroke_df[stroke_df['stroke'] == 1])\n",
    "total_rows = len(stroke_df)\n",
    "print('Number of rows in dataset: ' + str(total_rows))\n",
    "print('Percentage of strokes in dataset: ' + str(round((num_strokes / total_rows),3)) + '%')"
   ]
  },
  {
   "cell_type": "code",
   "execution_count": 184,
   "metadata": {},
   "outputs": [
    {
     "output_type": "stream",
     "name": "stdout",
     "text": [
      "<class 'pandas.core.frame.DataFrame'>\nRangeIndex: 5110 entries, 0 to 5109\nData columns (total 12 columns):\n #   Column             Non-Null Count  Dtype  \n---  ------             --------------  -----  \n 0   id                 5110 non-null   int64  \n 1   gender             5110 non-null   object \n 2   age                5110 non-null   float64\n 3   hypertension       5110 non-null   int64  \n 4   heart_disease      5110 non-null   int64  \n 5   ever_married       5110 non-null   object \n 6   work_type          5110 non-null   object \n 7   Residence_type     5110 non-null   object \n 8   avg_glucose_level  5110 non-null   float64\n 9   bmi                4909 non-null   float64\n 10  smoking_status     5110 non-null   object \n 11  stroke             5110 non-null   int64  \ndtypes: float64(3), int64(4), object(5)\nmemory usage: 479.2+ KB\n"
     ]
    }
   ],
   "source": [
    "stroke_df.info()"
   ]
  },
  {
   "source": [
    "## Data Preprocessing\n",
    "\n",
    "### Deal with nulls\n",
    "\n",
    "In the output of the previous cell, we see that all features except `bmi` are free of nulls.\n",
    "\n",
    "We're going to relace these values with the median value for `bmi`."
   ],
   "cell_type": "markdown",
   "metadata": {}
  },
  {
   "cell_type": "code",
   "execution_count": 185,
   "metadata": {},
   "outputs": [
    {
     "output_type": "stream",
     "name": "stdout",
     "text": [
      "id                     0\ngender                 0\nage                    0\nhypertension           0\nheart_disease          0\never_married           0\nwork_type              0\nResidence_type         0\navg_glucose_level      0\nbmi                  201\nsmoking_status         0\nstroke                 0\ndtype: int64\n(5110, 12)\nMaximum percentage of rows with null values in dataset: 3.933%\n"
     ]
    }
   ],
   "source": [
    "print(stroke_df.isnull().sum())\n",
    "print(stroke_df.shape)\n",
    "print('Maximum percentage of rows with null values in dataset: ' + str(round(100 * stroke_df.isnull().sum().sum() / len(stroke_df), 3)) + '%')"
   ]
  },
  {
   "cell_type": "code",
   "execution_count": 186,
   "metadata": {},
   "outputs": [
    {
     "output_type": "stream",
     "name": "stdout",
     "text": [
      "id                   0\ngender               0\nage                  0\nhypertension         0\nheart_disease        0\never_married         0\nwork_type            0\nResidence_type       0\navg_glucose_level    0\nbmi                  0\nsmoking_status       0\nstroke               0\ndtype: int64\n(5110, 12)\n"
     ]
    }
   ],
   "source": [
    "stroke_df['bmi'] = stroke_df['bmi'].replace(np.NaN, stroke_df['bmi'].median())\n",
    "print(stroke_df.isnull().sum())\n",
    "print(stroke_df.shape)"
   ]
  },
  {
   "source": [
    "### One hot encoding"
   ],
   "cell_type": "markdown",
   "metadata": {}
  },
  {
   "cell_type": "code",
   "execution_count": 187,
   "metadata": {},
   "outputs": [],
   "source": [
    "str_cols = list(stroke_df.dtypes[stroke_df.dtypes == 'object'].index)\n",
    "\n",
    "stroke_df = pd.get_dummies(stroke_df, columns=str_cols)"
   ]
  },
  {
   "source": [
    "### Split data"
   ],
   "cell_type": "markdown",
   "metadata": {}
  },
  {
   "cell_type": "code",
   "execution_count": 188,
   "metadata": {},
   "outputs": [],
   "source": [
    "x = stroke_df.drop(columns=['stroke'],axis=1, inplace=False)\n",
    "y = stroke_df['stroke']\n",
    "\n",
    "x_train, x_test, y_train, y_test = train_test_split(x, y, test_size=0.33, random_state=42)"
   ]
  },
  {
   "cell_type": "code",
   "execution_count": 189,
   "metadata": {},
   "outputs": [
    {
     "output_type": "execute_result",
     "data": {
      "text/plain": [
       "3378    0\n",
       "479     0\n",
       "3683    0\n",
       "2997    0\n",
       "286     0\n",
       "       ..\n",
       "4426    0\n",
       "466     0\n",
       "3092    0\n",
       "3772    0\n",
       "860     0\n",
       "Name: stroke, Length: 3423, dtype: int64"
      ]
     },
     "metadata": {},
     "execution_count": 189
    }
   ],
   "source": [
    "y_train"
   ]
  },
  {
   "source": [
    "## Benchmark Model\n",
    "\n",
    "### Linear Regression"
   ],
   "cell_type": "markdown",
   "metadata": {}
  },
  {
   "cell_type": "code",
   "execution_count": 191,
   "metadata": {},
   "outputs": [],
   "source": [
    "model = LogisticRegression(solver='liblinear', random_state=0)"
   ]
  },
  {
   "cell_type": "code",
   "execution_count": 192,
   "metadata": {},
   "outputs": [
    {
     "output_type": "execute_result",
     "data": {
      "text/plain": [
       "         id    age  hypertension  heart_disease  avg_glucose_level   bmi  \\\n",
       "3378  62090  51.00             0              0             219.17  29.8   \n",
       "479   15649  54.00             1              0             198.69  28.1   \n",
       "3683  27647  80.00             0              1              95.49  31.6   \n",
       "2997   4498  71.00             0              1             204.98  28.1   \n",
       "286   36811  23.00             0              0              94.09  30.9   \n",
       "...     ...    ...           ...            ...                ...   ...   \n",
       "4426  13846  43.00             0              0              88.00  30.6   \n",
       "466    1307  61.00             1              0             170.05  60.2   \n",
       "3092  31481   1.16             0              0              97.28  17.8   \n",
       "3772  61827  80.00             0              0             196.08  31.0   \n",
       "860   28933  46.00             0              0             100.15  50.3   \n",
       "\n",
       "      gender_Female  gender_Male  gender_Other  ever_married_No  ...  \\\n",
       "3378              0            1             0                1  ...   \n",
       "479               0            1             0                0  ...   \n",
       "3683              0            1             0                0  ...   \n",
       "2997              0            1             0                0  ...   \n",
       "286               1            0             0                1  ...   \n",
       "...             ...          ...           ...              ...  ...   \n",
       "4426              0            1             0                0  ...   \n",
       "466               1            0             0                0  ...   \n",
       "3092              1            0             0                1  ...   \n",
       "3772              0            1             0                0  ...   \n",
       "860               1            0             0                0  ...   \n",
       "\n",
       "      work_type_Never_worked  work_type_Private  work_type_Self-employed  \\\n",
       "3378                       0                  0                        1   \n",
       "479                        0                  1                        0   \n",
       "3683                       0                  0                        1   \n",
       "2997                       0                  1                        0   \n",
       "286                        0                  1                        0   \n",
       "...                      ...                ...                      ...   \n",
       "4426                       0                  0                        0   \n",
       "466                        0                  1                        0   \n",
       "3092                       0                  0                        0   \n",
       "3772                       0                  0                        1   \n",
       "860                        0                  1                        0   \n",
       "\n",
       "      work_type_children  Residence_type_Rural  Residence_type_Urban  \\\n",
       "3378                   0                     1                     0   \n",
       "479                    0                     1                     0   \n",
       "3683                   0                     1                     0   \n",
       "2997                   0                     0                     1   \n",
       "286                    0                     0                     1   \n",
       "...                  ...                   ...                   ...   \n",
       "4426                   0                     1                     0   \n",
       "466                    0                     1                     0   \n",
       "3092                   1                     0                     1   \n",
       "3772                   0                     1                     0   \n",
       "860                    0                     1                     0   \n",
       "\n",
       "      smoking_status_Unknown  smoking_status_formerly smoked  \\\n",
       "3378                       0                               0   \n",
       "479                        0                               0   \n",
       "3683                       1                               0   \n",
       "2997                       0                               1   \n",
       "286                        0                               0   \n",
       "...                      ...                             ...   \n",
       "4426                       0                               0   \n",
       "466                        0                               0   \n",
       "3092                       1                               0   \n",
       "3772                       0                               1   \n",
       "860                        0                               0   \n",
       "\n",
       "      smoking_status_never smoked  smoking_status_smokes  \n",
       "3378                            1                      0  \n",
       "479                             0                      1  \n",
       "3683                            0                      0  \n",
       "2997                            0                      0  \n",
       "286                             1                      0  \n",
       "...                           ...                    ...  \n",
       "4426                            1                      0  \n",
       "466                             0                      1  \n",
       "3092                            0                      0  \n",
       "3772                            0                      0  \n",
       "860                             0                      1  \n",
       "\n",
       "[3423 rows x 22 columns]"
      ],
      "text/html": "<div>\n<style scoped>\n    .dataframe tbody tr th:only-of-type {\n        vertical-align: middle;\n    }\n\n    .dataframe tbody tr th {\n        vertical-align: top;\n    }\n\n    .dataframe thead th {\n        text-align: right;\n    }\n</style>\n<table border=\"1\" class=\"dataframe\">\n  <thead>\n    <tr style=\"text-align: right;\">\n      <th></th>\n      <th>id</th>\n      <th>age</th>\n      <th>hypertension</th>\n      <th>heart_disease</th>\n      <th>avg_glucose_level</th>\n      <th>bmi</th>\n      <th>gender_Female</th>\n      <th>gender_Male</th>\n      <th>gender_Other</th>\n      <th>ever_married_No</th>\n      <th>...</th>\n      <th>work_type_Never_worked</th>\n      <th>work_type_Private</th>\n      <th>work_type_Self-employed</th>\n      <th>work_type_children</th>\n      <th>Residence_type_Rural</th>\n      <th>Residence_type_Urban</th>\n      <th>smoking_status_Unknown</th>\n      <th>smoking_status_formerly smoked</th>\n      <th>smoking_status_never smoked</th>\n      <th>smoking_status_smokes</th>\n    </tr>\n  </thead>\n  <tbody>\n    <tr>\n      <th>3378</th>\n      <td>62090</td>\n      <td>51.00</td>\n      <td>0</td>\n      <td>0</td>\n      <td>219.17</td>\n      <td>29.8</td>\n      <td>0</td>\n      <td>1</td>\n      <td>0</td>\n      <td>1</td>\n      <td>...</td>\n      <td>0</td>\n      <td>0</td>\n      <td>1</td>\n      <td>0</td>\n      <td>1</td>\n      <td>0</td>\n      <td>0</td>\n      <td>0</td>\n      <td>1</td>\n      <td>0</td>\n    </tr>\n    <tr>\n      <th>479</th>\n      <td>15649</td>\n      <td>54.00</td>\n      <td>1</td>\n      <td>0</td>\n      <td>198.69</td>\n      <td>28.1</td>\n      <td>0</td>\n      <td>1</td>\n      <td>0</td>\n      <td>0</td>\n      <td>...</td>\n      <td>0</td>\n      <td>1</td>\n      <td>0</td>\n      <td>0</td>\n      <td>1</td>\n      <td>0</td>\n      <td>0</td>\n      <td>0</td>\n      <td>0</td>\n      <td>1</td>\n    </tr>\n    <tr>\n      <th>3683</th>\n      <td>27647</td>\n      <td>80.00</td>\n      <td>0</td>\n      <td>1</td>\n      <td>95.49</td>\n      <td>31.6</td>\n      <td>0</td>\n      <td>1</td>\n      <td>0</td>\n      <td>0</td>\n      <td>...</td>\n      <td>0</td>\n      <td>0</td>\n      <td>1</td>\n      <td>0</td>\n      <td>1</td>\n      <td>0</td>\n      <td>1</td>\n      <td>0</td>\n      <td>0</td>\n      <td>0</td>\n    </tr>\n    <tr>\n      <th>2997</th>\n      <td>4498</td>\n      <td>71.00</td>\n      <td>0</td>\n      <td>1</td>\n      <td>204.98</td>\n      <td>28.1</td>\n      <td>0</td>\n      <td>1</td>\n      <td>0</td>\n      <td>0</td>\n      <td>...</td>\n      <td>0</td>\n      <td>1</td>\n      <td>0</td>\n      <td>0</td>\n      <td>0</td>\n      <td>1</td>\n      <td>0</td>\n      <td>1</td>\n      <td>0</td>\n      <td>0</td>\n    </tr>\n    <tr>\n      <th>286</th>\n      <td>36811</td>\n      <td>23.00</td>\n      <td>0</td>\n      <td>0</td>\n      <td>94.09</td>\n      <td>30.9</td>\n      <td>1</td>\n      <td>0</td>\n      <td>0</td>\n      <td>1</td>\n      <td>...</td>\n      <td>0</td>\n      <td>1</td>\n      <td>0</td>\n      <td>0</td>\n      <td>0</td>\n      <td>1</td>\n      <td>0</td>\n      <td>0</td>\n      <td>1</td>\n      <td>0</td>\n    </tr>\n    <tr>\n      <th>...</th>\n      <td>...</td>\n      <td>...</td>\n      <td>...</td>\n      <td>...</td>\n      <td>...</td>\n      <td>...</td>\n      <td>...</td>\n      <td>...</td>\n      <td>...</td>\n      <td>...</td>\n      <td>...</td>\n      <td>...</td>\n      <td>...</td>\n      <td>...</td>\n      <td>...</td>\n      <td>...</td>\n      <td>...</td>\n      <td>...</td>\n      <td>...</td>\n      <td>...</td>\n      <td>...</td>\n    </tr>\n    <tr>\n      <th>4426</th>\n      <td>13846</td>\n      <td>43.00</td>\n      <td>0</td>\n      <td>0</td>\n      <td>88.00</td>\n      <td>30.6</td>\n      <td>0</td>\n      <td>1</td>\n      <td>0</td>\n      <td>0</td>\n      <td>...</td>\n      <td>0</td>\n      <td>0</td>\n      <td>0</td>\n      <td>0</td>\n      <td>1</td>\n      <td>0</td>\n      <td>0</td>\n      <td>0</td>\n      <td>1</td>\n      <td>0</td>\n    </tr>\n    <tr>\n      <th>466</th>\n      <td>1307</td>\n      <td>61.00</td>\n      <td>1</td>\n      <td>0</td>\n      <td>170.05</td>\n      <td>60.2</td>\n      <td>1</td>\n      <td>0</td>\n      <td>0</td>\n      <td>0</td>\n      <td>...</td>\n      <td>0</td>\n      <td>1</td>\n      <td>0</td>\n      <td>0</td>\n      <td>1</td>\n      <td>0</td>\n      <td>0</td>\n      <td>0</td>\n      <td>0</td>\n      <td>1</td>\n    </tr>\n    <tr>\n      <th>3092</th>\n      <td>31481</td>\n      <td>1.16</td>\n      <td>0</td>\n      <td>0</td>\n      <td>97.28</td>\n      <td>17.8</td>\n      <td>1</td>\n      <td>0</td>\n      <td>0</td>\n      <td>1</td>\n      <td>...</td>\n      <td>0</td>\n      <td>0</td>\n      <td>0</td>\n      <td>1</td>\n      <td>0</td>\n      <td>1</td>\n      <td>1</td>\n      <td>0</td>\n      <td>0</td>\n      <td>0</td>\n    </tr>\n    <tr>\n      <th>3772</th>\n      <td>61827</td>\n      <td>80.00</td>\n      <td>0</td>\n      <td>0</td>\n      <td>196.08</td>\n      <td>31.0</td>\n      <td>0</td>\n      <td>1</td>\n      <td>0</td>\n      <td>0</td>\n      <td>...</td>\n      <td>0</td>\n      <td>0</td>\n      <td>1</td>\n      <td>0</td>\n      <td>1</td>\n      <td>0</td>\n      <td>0</td>\n      <td>1</td>\n      <td>0</td>\n      <td>0</td>\n    </tr>\n    <tr>\n      <th>860</th>\n      <td>28933</td>\n      <td>46.00</td>\n      <td>0</td>\n      <td>0</td>\n      <td>100.15</td>\n      <td>50.3</td>\n      <td>1</td>\n      <td>0</td>\n      <td>0</td>\n      <td>0</td>\n      <td>...</td>\n      <td>0</td>\n      <td>1</td>\n      <td>0</td>\n      <td>0</td>\n      <td>1</td>\n      <td>0</td>\n      <td>0</td>\n      <td>0</td>\n      <td>0</td>\n      <td>1</td>\n    </tr>\n  </tbody>\n</table>\n<p>3423 rows × 22 columns</p>\n</div>"
     },
     "metadata": {},
     "execution_count": 192
    }
   ],
   "source": [
    "x_train"
   ]
  },
  {
   "cell_type": "code",
   "execution_count": 193,
   "metadata": {},
   "outputs": [
    {
     "output_type": "execute_result",
     "data": {
      "text/plain": [
       "LogisticRegression(random_state=0, solver='liblinear')"
      ]
     },
     "metadata": {},
     "execution_count": 193
    }
   ],
   "source": [
    "model.fit(x_train, y_train)"
   ]
  },
  {
   "cell_type": "code",
   "execution_count": 194,
   "metadata": {},
   "outputs": [
    {
     "output_type": "execute_result",
     "data": {
      "text/plain": [
       "array([0, 0, 0, ..., 0, 0, 0], dtype=int64)"
      ]
     },
     "metadata": {},
     "execution_count": 194
    }
   ],
   "source": [
    "model.predict(x_test)"
   ]
  },
  {
   "cell_type": "code",
   "execution_count": 195,
   "metadata": {},
   "outputs": [
    {
     "output_type": "execute_result",
     "data": {
      "text/plain": [
       "0.942501481920569"
      ]
     },
     "metadata": {},
     "execution_count": 195
    }
   ],
   "source": [
    "model.score(x_test, y_test)"
   ]
  },
  {
   "cell_type": "code",
   "execution_count": 196,
   "metadata": {},
   "outputs": [
    {
     "output_type": "stream",
     "name": "stdout",
     "text": [
      "[[1589    2]\n [  95    1]]\n"
     ]
    }
   ],
   "source": [
    "matrix = confusion_matrix(y_test, model.predict(x_test))\n",
    "print(matrix)"
   ]
  },
  {
   "cell_type": "code",
   "execution_count": 197,
   "metadata": {},
   "outputs": [
    {
     "output_type": "stream",
     "name": "stdout",
     "text": [
      "Recall score: 0.0104\nPrecision score: 0.3333\nF1 score: 0.0202\n"
     ]
    }
   ],
   "source": [
    "recall = matrix[1][1] / (matrix[1][1] + matrix[1][0])\n",
    "print('Recall score: ' + str(round(recall, 4)))\n",
    "\n",
    "precision = matrix[1][1] / (matrix[1][1] + matrix[0][1])\n",
    "print('Precision score: ' + str(round(precision, 4)))\n",
    "\n",
    "f1 = (2 * precision * recall / (precision + recall))\n",
    "print('F1 score: ' + str(round(f1, 4)))"
   ]
  },
  {
   "source": [
    "### Improve the Model"
   ],
   "cell_type": "markdown",
   "metadata": {}
  },
  {
   "cell_type": "code",
   "execution_count": 198,
   "metadata": {},
   "outputs": [
    {
     "output_type": "execute_result",
     "data": {
      "text/plain": [
       "LogisticRegression(class_weight='balanced', random_state=0, solver='liblinear')"
      ]
     },
     "metadata": {},
     "execution_count": 198
    }
   ],
   "source": [
    "model = LogisticRegression(solver='liblinear', class_weight='balanced', random_state=0)\n",
    "model.fit(x_train, y_train)"
   ]
  },
  {
   "cell_type": "code",
   "execution_count": 199,
   "metadata": {},
   "outputs": [
    {
     "output_type": "stream",
     "name": "stdout",
     "text": [
      "[[1178  413]\n [  24   72]]\n"
     ]
    }
   ],
   "source": [
    "matrix = confusion_matrix(y_test, model.predict(x_test))\n",
    "print(matrix)"
   ]
  },
  {
   "cell_type": "code",
   "execution_count": 200,
   "metadata": {},
   "outputs": [
    {
     "output_type": "stream",
     "name": "stdout",
     "text": [
      "Recall score: 0.75\nPrecision score: 0.1485\nF1 score: 0.2478\n"
     ]
    }
   ],
   "source": [
    "recall = matrix[1][1] / (matrix[1][1] + matrix[1][0])\n",
    "print('Recall score: ' + str(round(recall, 4)))\n",
    "\n",
    "precision = matrix[1][1] / (matrix[1][1] + matrix[0][1])\n",
    "print('Precision score: ' + str(round(precision, 4)))\n",
    "\n",
    "f1 = (2 * precision * recall / (precision + recall))\n",
    "print('F1 score: ' + str(round(f1, 4)))"
   ]
  },
  {
   "cell_type": "code",
   "execution_count": 201,
   "metadata": {},
   "outputs": [
    {
     "output_type": "execute_result",
     "data": {
      "text/plain": [
       "{'C': 1.0,\n",
       " 'class_weight': 'balanced',\n",
       " 'dual': False,\n",
       " 'fit_intercept': True,\n",
       " 'intercept_scaling': 1,\n",
       " 'l1_ratio': None,\n",
       " 'max_iter': 100,\n",
       " 'multi_class': 'auto',\n",
       " 'n_jobs': None,\n",
       " 'penalty': 'l2',\n",
       " 'random_state': 0,\n",
       " 'solver': 'liblinear',\n",
       " 'tol': 0.0001,\n",
       " 'verbose': 0,\n",
       " 'warm_start': False}"
      ]
     },
     "metadata": {},
     "execution_count": 201
    }
   ],
   "source": [
    "model.get_params()"
   ]
  },
  {
   "source": [
    "### Using Grid Search"
   ],
   "cell_type": "markdown",
   "metadata": {}
  },
  {
   "cell_type": "code",
   "execution_count": 220,
   "metadata": {
    "tags": []
   },
   "outputs": [
    {
     "output_type": "stream",
     "name": "stderr",
     "text": [
      "C:\\Users\\eogha\\anaconda3\\lib\\site-packages\\scipy\\optimize\\linesearch.py:477: LineSearchWarning: The line search algorithm did not converge\n",
      "  warn('The line search algorithm did not converge', LineSearchWarning)\n",
      "C:\\Users\\eogha\\anaconda3\\lib\\site-packages\\scipy\\optimize\\linesearch.py:327: LineSearchWarning: The line search algorithm did not converge\n",
      "  warn('The line search algorithm did not converge', LineSearchWarning)\n",
      "C:\\Users\\eogha\\anaconda3\\lib\\site-packages\\scipy\\optimize\\linesearch.py:477: LineSearchWarning: The line search algorithm did not converge\n",
      "  warn('The line search algorithm did not converge', LineSearchWarning)\n",
      "C:\\Users\\eogha\\anaconda3\\lib\\site-packages\\scipy\\optimize\\linesearch.py:327: LineSearchWarning: The line search algorithm did not converge\n",
      "  warn('The line search algorithm did not converge', LineSearchWarning)\n",
      "C:\\Users\\eogha\\anaconda3\\lib\\site-packages\\scipy\\optimize\\linesearch.py:477: LineSearchWarning: The line search algorithm did not converge\n",
      "  warn('The line search algorithm did not converge', LineSearchWarning)\n",
      "C:\\Users\\eogha\\anaconda3\\lib\\site-packages\\scipy\\optimize\\linesearch.py:327: LineSearchWarning: The line search algorithm did not converge\n",
      "  warn('The line search algorithm did not converge', LineSearchWarning)\n",
      "C:\\Users\\eogha\\anaconda3\\lib\\site-packages\\scipy\\optimize\\linesearch.py:437: LineSearchWarning: Rounding errors prevent the line search from converging\n",
      "  warn(msg, LineSearchWarning)\n",
      "C:\\Users\\eogha\\anaconda3\\lib\\site-packages\\scipy\\optimize\\linesearch.py:327: LineSearchWarning: The line search algorithm did not converge\n",
      "  warn('The line search algorithm did not converge', LineSearchWarning)\n",
      "C:\\Users\\eogha\\anaconda3\\lib\\site-packages\\sklearn\\utils\\optimize.py:204: UserWarning: Line Search failed\n",
      "  warnings.warn('Line Search failed')\n"
     ]
    },
    {
     "output_type": "execute_result",
     "data": {
      "text/plain": [
       "GridSearchCV(estimator=LogisticRegression(), n_jobs=-1,\n",
       "             param_grid={'C': [1, 10, 100, 1000], 'class_weight': ['balanced'],\n",
       "                         'max_iter': [10000], 'multi_class': ['ovr'],\n",
       "                         'solver': ['newton-cg']},\n",
       "             scoring='f1')"
      ]
     },
     "metadata": {},
     "execution_count": 220
    }
   ],
   "source": [
    "lr = LogisticRegression()             # initialize the model\n",
    "\n",
    "#solver_options = ['newton-cg', 'lbfgs', 'liblinear', 'sag']\n",
    "solver_options = ['newton-cg']\n",
    "#multi_class_options = ['ovr', 'multinomial']\n",
    "#class_weight_options = ['None', 'balanced']\n",
    "multi_class_options = ['ovr']\n",
    "class_weight_options = ['balanced']\n",
    "max_iter_value = [10000]\n",
    "c_values = [1, 10, 100, 1000]\n",
    "\n",
    "param_grid = dict(solver = solver_options, multi_class = multi_class_options, class_weight = class_weight_options, max_iter = max_iter_value, C = c_values)\n",
    "\n",
    "grid = GridSearchCV(lr, param_grid, scoring = 'f1', n_jobs=-1)\n",
    "grid.fit(x_train, y_train)"
   ]
  },
  {
   "cell_type": "code",
   "execution_count": 222,
   "metadata": {},
   "outputs": [
    {
     "output_type": "execute_result",
     "data": {
      "text/plain": [
       "LogisticRegression(C=10, class_weight='balanced', max_iter=10000,\n",
       "                   multi_class='ovr', solver='newton-cg')"
      ]
     },
     "metadata": {},
     "execution_count": 222
    }
   ],
   "source": [
    "grid.best_estimator_"
   ]
  },
  {
   "cell_type": "code",
   "execution_count": 223,
   "metadata": {},
   "outputs": [
    {
     "output_type": "stream",
     "name": "stdout",
     "text": [
      "[[1179  412]\n [  23   73]]\nRecall score: 0.7604\nPrecision score: 0.1505\nF1 score: 0.2513\n"
     ]
    }
   ],
   "source": [
    "matrix = confusion_matrix(y_test, grid.best_estimator_.predict(x_test))\n",
    "print(matrix)\n",
    "\n",
    "recall = matrix[1][1] / (matrix[1][1] + matrix[1][0])\n",
    "print('Recall score: ' + str(round(recall, 4)))\n",
    "\n",
    "precision = matrix[1][1] / (matrix[1][1] + matrix[0][1])\n",
    "print('Precision score: ' + str(round(precision, 4)))\n",
    "\n",
    "f1 = (2 * precision * recall / (precision + recall))\n",
    "print('F1 score: ' + str(round(f1, 4)))"
   ]
  },
  {
   "source": [
    "### Rebalancing dataset"
   ],
   "cell_type": "markdown",
   "metadata": {}
  },
  {
   "cell_type": "code",
   "execution_count": null,
   "metadata": {},
   "outputs": [],
   "source": [
    "# TBC"
   ]
  }
 ],
 "metadata": {
  "kernelspec": {
   "name": "python383jvsc74a57bd0fb9d79de923c32f5ecf83141156fe7db90371cf7d694c65061adcb827e8eba5b",
   "display_name": "Python 3.8.3 64-bit ('base': conda)"
  },
  "language_info": {
   "codemirror_mode": {
    "name": "ipython",
    "version": 3
   },
   "file_extension": ".py",
   "mimetype": "text/x-python",
   "name": "python",
   "nbconvert_exporter": "python",
   "pygments_lexer": "ipython3",
   "version": "3.8.3"
  }
 },
 "nbformat": 4,
 "nbformat_minor": 4
}